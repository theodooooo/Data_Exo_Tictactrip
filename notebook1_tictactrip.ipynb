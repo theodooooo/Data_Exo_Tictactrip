{
 "cells": [
  {
   "cell_type": "markdown",
   "metadata": {},
   "source": [
    "Bonjour à vous, voici ma petite étude sur le sujet donner pour Tictactrip : "
   ]
  },
  {
   "cell_type": "code",
   "execution_count": 203,
   "metadata": {},
   "outputs": [],
   "source": [
    "import scipy.io\n",
    "import numpy as np\n",
    "import scipy\n",
    "from numpy import linalg as LA\n",
    "from scipy.spatial import procrustes\n",
    "import matplotlib.pyplot as plt\n",
    "from scipy.spatial import procrustes\n",
    "from math import atan\n",
    "import math\n",
    "from scipy.linalg import norm\n",
    "from scipy.io import loadmat\n",
    "import pandas as pd\n",
    "from sklearn.neighbors import DistanceMetric"
   ]
  },
  {
   "cell_type": "markdown",
   "metadata": {},
   "source": [
    "Objectif :\n",
    "   - extraire des infos intéressantes type prix min, moyen et max, durée min/max/moyenne par trajet\n",
    "   - différence de prix moyen et durée selon le train, le bus et le covoit selon la distance du trajet (0-200km, 201-800km, 800-2000km, 2000+km) \n",
    "\n"
   ]
  },
  {
   "cell_type": "markdown",
   "metadata": {},
   "source": [
    "### Démarche \n",
    "J'ai décider de diviser mon étude en 2 gros points, l'étude feature par feature (1D) et une autre partie en croisant les feature entres elles (je ne vais que jusqu'en 2D)"
   ]
  },
  {
   "cell_type": "markdown",
   "metadata": {},
   "source": [
    "### Stats 1D sur la table ticket_data"
   ]
  },
  {
   "cell_type": "code",
   "execution_count": 204,
   "metadata": {
    "code_folding": []
   },
   "outputs": [],
   "source": [
    "# chargement des datasets \n",
    "cities = pd.read_csv(\"data/cities.csv\")\n",
    "stations = pd.read_csv(\"data/stations.csv\")\n",
    "providers = pd.read_csv(\"data/providers.csv\")\n",
    "ticket_data = pd.read_csv(\"data/ticket_data.csv\")"
   ]
  },
  {
   "cell_type": "markdown",
   "metadata": {},
   "source": [
    "#### Stats sur le prix "
   ]
  },
  {
   "cell_type": "code",
   "execution_count": 205,
   "metadata": {
    "code_folding": []
   },
   "outputs": [
    {
     "data": {
      "text/plain": [
       "Text(0.5, 0.98, 'Boxplot des prix en centimes')"
      ]
     },
     "execution_count": 205,
     "metadata": {},
     "output_type": "execute_result"
    },
    {
     "data": {
      "image/png": "[encoded data removed]",
      "text/plain": [
       "<Figure size 432x288 with 1 Axes>"
      ]
     },
     "metadata": {
      "needs_background": "light"
     },
     "output_type": "display_data"
    }
   ],
   "source": [
    "#idée : pour représenté le min max et moyenne, faire des boîtes à moustache\n",
    "#Faire pour le prix\n",
    "ticket_data.price_in_cents.plot.box()\n",
    "plt.suptitle(\"Boxplot des prix en centimes\")"
   ]
  },
  {
   "cell_type": "markdown",
   "metadata": {},
   "source": [
    "On remarque que les outliers sont nombreux et ont une réelle influence sur le prix:   "
   ]
  },
  {
   "cell_type": "code",
   "execution_count": 206,
   "metadata": {},
   "outputs": [
    {
     "name": "stdout",
     "output_type": "stream",
     "text": [
      "avec outliers\n",
      "prix min(euros) 3.0\n",
      "prix max (euros) 385.5\n",
      "prix moyen (euros) 43.82711061374178\n"
     ]
    }
   ],
   "source": [
    "print(\"avec outliers\")\n",
    "print(\"prix min(euros)\",ticket_data.price_in_cents.min()/100)\n",
    "print(\"prix max (euros)\",ticket_data.price_in_cents.max()/100)\n",
    "print(\"prix moyen (euros)\",ticket_data.price_in_cents.mean()/100)"
   ]
  },
  {
   "cell_type": "code",
   "execution_count": 207,
   "metadata": {},
   "outputs": [
    {
     "name": "stdout",
     "output_type": "stream",
     "text": [
      "sans outliers\n",
      "prix min(euros) 3.0\n",
      "prix max (euros) 100.0\n",
      "prix moyen (euros) 33.15288512043317\n"
     ]
    }
   ],
   "source": [
    "print(\"sans outliers\")\n",
    "ticket_data_no_outliers = ticket_data[ticket_data.price_in_cents<=10000]\n",
    "print(\"prix min(euros)\",test.price_in_cents.min()/100)\n",
    "print(\"prix max (euros)\",test.price_in_cents.max()/100)\n",
    "print(\"prix moyen (euros)\",test.price_in_cents.mean()/100)"
   ]
  },
  {
   "cell_type": "code",
   "execution_count": 208,
   "metadata": {},
   "outputs": [],
   "source": [
    "ticket_data_avec_outliers = ticket_data[ticket_data.price_in_cents>10000]"
   ]
  },
  {
   "cell_type": "markdown",
   "metadata": {},
   "source": [
    "Pour le moment on va donc enlever les outliers de notre dataset. "
   ]
  },
  {
   "cell_type": "markdown",
   "metadata": {},
   "source": [
    "#### Stats sur la durée  "
   ]
  },
  {
   "cell_type": "code",
   "execution_count": 209,
   "metadata": {
    "code_folding": [
     4
    ]
   },
   "outputs": [
    {
     "name": "stderr",
     "output_type": "stream",
     "text": [
      "C:\\Users\\theo\\Anaconda3\\lib\\site-packages\\pandas\\core\\generic.py:5208: SettingWithCopyWarning: \n",
      "A value is trying to be set on a copy of a slice from a DataFrame.\n",
      "Try using .loc[row_indexer,col_indexer] = value instead\n",
      "\n",
      "See the caveats in the documentation: http://pandas.pydata.org/pandas-docs/stable/user_guide/indexing.html#returning-a-view-versus-a-copy\n",
      "  self[name] = value\n",
      "C:\\Users\\theo\\Anaconda3\\lib\\site-packages\\ipykernel_launcher.py:8: SettingWithCopyWarning: \n",
      "A value is trying to be set on a copy of a slice from a DataFrame.\n",
      "Try using .loc[row_indexer,col_indexer] = value instead\n",
      "\n",
      "See the caveats in the documentation: http://pandas.pydata.org/pandas-docs/stable/user_guide/indexing.html#returning-a-view-versus-a-copy\n",
      "  \n"
     ]
    }
   ],
   "source": [
    "# create new column : temps_trajet_in_minute\n",
    "ticket_data_no_outliers.departure_ts = pd.to_datetime(ticket_data_no_outliers.departure_ts,\n",
    "                                          format='%Y-%m-%d %H:%M:%S',\n",
    "                                          errors='ignore')\n",
    "ticket_data_no_outliers.arrival_ts = pd.to_datetime(ticket_data_no_outliers.arrival_ts,\n",
    "                                          format='%Y-%m-%d %H:%M:%S',\n",
    "                                          errors='ignore')\n",
    "ticket_data_no_outliers[\"temps_trajet_in_minute\"] = (ticket_data_no_outliers.arrival_ts - ticket_data_no_outliers.departure_ts).astype('timedelta64[m]')"
   ]
  },
  {
   "cell_type": "code",
   "execution_count": 210,
   "metadata": {},
   "outputs": [
    {
     "data": {
      "text/plain": [
       "count    67863.000000\n",
       "mean       414.295581\n",
       "std        585.805607\n",
       "min         20.000000\n",
       "25%        170.000000\n",
       "50%        290.000000\n",
       "75%        475.000000\n",
       "max      29571.000000\n",
       "Name: temps_trajet_in_minute, dtype: float64"
      ]
     },
     "execution_count": 210,
     "metadata": {},
     "output_type": "execute_result"
    }
   ],
   "source": [
    "ticket_data_no_outliers[\"temps_trajet_in_minute\"].describe()"
   ]
  },
  {
   "cell_type": "markdown",
   "metadata": {},
   "source": [
    "#### Stats 1D sur les ompagnies"
   ]
  },
  {
   "cell_type": "code",
   "execution_count": 211,
   "metadata": {},
   "outputs": [
    {
     "data": {
      "text/plain": [
       "Text(0.5, 0.98, 'Répartition des compagnies')"
      ]
     },
     "execution_count": 211,
     "metadata": {},
     "output_type": "execute_result"
    },
    {
     "data": {
      "image/png": "[encoded data removed]",
      "text/plain": [
       "<Figure size 432x288 with 1 Axes>"
      ]
     },
     "metadata": {},
     "output_type": "display_data"
    }
   ],
   "source": [
    "ticket_data_no_outliers.company.value_counts().head(n=10).plot.pie()\n",
    "plt.suptitle(\"Répartition des compagnies\")"
   ]
  },
  {
   "cell_type": "markdown",
   "metadata": {},
   "source": [
    "On remarque que plus 3/4 des voyages ont été commandés par les entreprises n°8385, n°8376 , n°13 et n°8380, \n",
    "dont la moitié par n°8385.    \n",
    "PS :Le fait de joindre les le dataset providers et tickets ne permet pas d'avoir toutes les informations(il manque des numéros de compagnie)."
   ]
  },
  {
   "cell_type": "markdown",
   "metadata": {},
   "source": [
    "#### Stats 1D sur les dstances "
   ]
  },
  {
   "cell_type": "markdown",
   "metadata": {},
   "source": [
    "Dans cette partie, Je vais calculer la distance entre la ville de départ et la ville d'arrivée.\n",
    "Il y a cependant des points à améliorer : \n",
    "- je ne prends pas en compte le champ \"middle_stations\"\n",
    "- je ne prends pas en compte le champ \"o_station\" & \"d_station\" "
   ]
  },
  {
   "cell_type": "code",
   "execution_count": 212,
   "metadata": {
    "code_folding": [
     0,
     1
    ]
   },
   "outputs": [],
   "source": [
    "# voici la manière dont je me suis prit pour calculer la distance. \n",
    "def get_distance(lat1,lat2,lon1,lon2):\n",
    "    difflon = lon2 - lon1\n",
    "    difflat = lat2 - lat1\n",
    "\n",
    "    haversin_formule = np.cos(lat1) * np.cos(lat2) * np.sin(difflon/2.0)**2 + np.sin(difflat/2.0)**2 \n",
    "\n",
    "    dist = 2 * np.arcsin(np.sqrt(haversin_formule ))\n",
    "    km = 6367 * dist  \n",
    "    return km"
   ]
  },
  {
   "cell_type": "code",
   "execution_count": 213,
   "metadata": {
    "code_folding": []
   },
   "outputs": [],
   "source": [
    "# merge bien le dataset ticket_data et cities pour faire le calcul de distances\n",
    "#1) merge pour le ville de départ\n",
    "data_distance = ticket_data_no_outliers.merge(cities[['id',\"latitude\",\"longitude\",\"unique_name\"]]\n",
    "                                  ,left_on ='o_city' ,right_on = 'id',how=\"left\")\n",
    "data_distance = data_distance.rename(columns={'latitude': 'o_latitude', 'longitude': 'o_longitude',\n",
    "                                             \"unique_name\":\"o_city_name\"})\n",
    "#2) merge pour le ville de fin\n",
    "data_distance = data_distance.merge(cities[['id',\"latitude\",\"longitude\",\"unique_name\"]]\n",
    "                                  ,left_on ='d_city' ,right_on = 'id',how=\"left\")\n",
    "\n",
    "data_distance = data_distance.rename(columns={'latitude': 'd_latitude', 'longitude': 'd_longitude',\n",
    "                                             \"unique_name\":\"d_city_name\"})"
   ]
  },
  {
   "cell_type": "code",
   "execution_count": 214,
   "metadata": {
    "code_folding": [
     0
    ]
   },
   "outputs": [],
   "source": [
    "#3) on convertis les longitude et latitude en radians\n",
    "data_distance['o_latitude'] = np.radians(data_distance['o_latitude'])\n",
    "data_distance['o_longitude'] = np.radians(data_distance['o_longitude'])\n",
    "data_distance['d_latitude'] = np.radians(data_distance['d_latitude'])\n",
    "data_distance['d_longitude'] = np.radians(data_distance['d_longitude'])"
   ]
  },
  {
   "cell_type": "code",
   "execution_count": 215,
   "metadata": {
    "code_folding": [
     0
    ]
   },
   "outputs": [],
   "source": [
    "data_distance[\"distance\"] = get_distance(data_distance['o_latitude'],\n",
    "                                     data_distance['d_latitude'] ,\n",
    "                                    data_distance['o_longitude'],\n",
    "                                    data_distance['d_longitude'])"
   ]
  },
  {
   "cell_type": "code",
   "execution_count": 216,
   "metadata": {},
   "outputs": [
    {
     "data": {
      "text/plain": [
       "Text(0.5, 0.98, 'Répartition des distances des trajets')"
      ]
     },
     "execution_count": 216,
     "metadata": {},
     "output_type": "execute_result"
    },
    {
     "data": {
      "image/png": "[encoded data removed]",
      "text/plain": [
       "<Figure size 432x288 with 1 Axes>"
      ]
     },
     "metadata": {
      "needs_background": "light"
     },
     "output_type": "display_data"
    }
   ],
   "source": [
    "data_distance.distance.plot.box()\n",
    "plt.suptitle(\"Répartition des distances des trajets\")"
   ]
  },
  {
   "cell_type": "code",
   "execution_count": 217,
   "metadata": {},
   "outputs": [
    {
     "name": "stdout",
     "output_type": "stream",
     "text": [
      "distance min(km) 18.901366958390767\n",
      "distance max (km) 1754.9543216930806\n",
      "distance moyen (km) 345.4008271197539\n"
     ]
    }
   ],
   "source": [
    "print(\"distance min(km)\",data_distance.distance.min())\n",
    "print(\"distance max (km)\",data_distance.distance.max())\n",
    "print(\"distance moyen (km)\",data_distance.distance.mean())"
   ]
  },
  {
   "cell_type": "markdown",
   "metadata": {},
   "source": [
    "#### Stat 1D moyen de transport"
   ]
  },
  {
   "cell_type": "code",
   "execution_count": 218,
   "metadata": {},
   "outputs": [],
   "source": [
    "#join des datasets\n",
    "providers = providers.rename(columns={'company_id' :'company'})\n",
    "distance_company = data_distance.merge(providers,on = 'company',how=\"left\")"
   ]
  },
  {
   "cell_type": "code",
   "execution_count": 219,
   "metadata": {},
   "outputs": [
    {
     "data": {
      "text/plain": [
       "bus           0.999867\n",
       "train         0.000126\n",
       "carpooling    0.000007\n",
       "Name: transport_type, dtype: float64"
      ]
     },
     "execution_count": 219,
     "metadata": {},
     "output_type": "execute_result"
    }
   ],
   "source": [
    "distance_company.transport_type.value_counts(normalize =True)"
   ]
  },
  {
   "cell_type": "markdown",
   "metadata": {},
   "source": [
    "Remarque : plus de 99,98 % des voyage se font en bus."
   ]
  },
  {
   "cell_type": "markdown",
   "metadata": {},
   "source": [
    "### Stats 2D  "
   ]
  },
  {
   "cell_type": "markdown",
   "metadata": {},
   "source": [
    "#### durée min/max/moyenne par trajet  "
   ]
  },
  {
   "cell_type": "markdown",
   "metadata": {},
   "source": [
    "Dans cette partie, par soucis de clarté je choisis de ne faire mes calculs que sur les 10 trajets les plus \"fréquentés\". "
   ]
  },
  {
   "cell_type": "code",
   "execution_count": null,
   "metadata": {
    "scrolled": true
   },
   "outputs": [],
   "source": []
  },
  {
   "cell_type": "code",
   "execution_count": 220,
   "metadata": {
    "code_folding": []
   },
   "outputs": [],
   "source": [
    "# On va prendre les 10 distances des trajets les plus fréquenté.\n",
    "distances_trajets_freq = data_distance.distance.value_counts().head(n= 10)"
   ]
  },
  {
   "cell_type": "code",
   "execution_count": 221,
   "metadata": {
    "code_folding": [
     0
    ]
   },
   "outputs": [],
   "source": [
    "# je filtre\n",
    "trajets_top_10 = data_distance[data_distance.distance.isin(list_distances_trajets_freq)]"
   ]
  },
  {
   "cell_type": "code",
   "execution_count": 228,
   "metadata": {
    "code_folding": []
   },
   "outputs": [],
   "source": [
    "# je groupby par  ville de départ et ville d'arrivée\n",
    "groupby = trajets_top_10[[\"d_city_name\",\"o_city_name\",\"temps_trajet_in_minute\"]].groupby(['o_city_name',\"d_city_name\"])"
   ]
  },
  {
   "cell_type": "code",
   "execution_count": 229,
   "metadata": {
    "code_folding": []
   },
   "outputs": [],
   "source": [
    "# je construis mon dataframe de résultat \n",
    "resultat = groupby.max().rename(columns={'temps_trajet_in_minute' :'Max_minute'})\n",
    "resultat[\"Min_minute\"] = groupby.min()\n",
    "resultat[\"Moyenne_minute\"] = groupby.mean()     \n",
    "resultat[\"count\"] = groupby.count()  "
   ]
  },
  {
   "cell_type": "code",
   "execution_count": 231,
   "metadata": {
    "code_folding": []
   },
   "outputs": [
    {
     "data": {
      "text/html": [
       "<div>\n",
       "<style scoped>\n",
       "    .dataframe tbody tr th:only-of-type {\n",
       "        vertical-align: middle;\n",
       "    }\n",
       "\n",
       "    .dataframe tbody tr th {\n",
       "        vertical-align: top;\n",
       "    }\n",
       "\n",
       "    .dataframe thead th {\n",
       "        text-align: right;\n",
       "    }\n",
       "</style>\n",
       "<table border=\"1\" class=\"dataframe\">\n",
       "  <thead>\n",
       "    <tr style=\"text-align: right;\">\n",
       "      <th></th>\n",
       "      <th></th>\n",
       "      <th>Max_minute</th>\n",
       "      <th>Min_minute</th>\n",
       "      <th>Moyenne_minute</th>\n",
       "      <th>count</th>\n",
       "    </tr>\n",
       "    <tr>\n",
       "      <th>o_city_name</th>\n",
       "      <th>d_city_name</th>\n",
       "      <th></th>\n",
       "      <th></th>\n",
       "      <th></th>\n",
       "      <th></th>\n",
       "    </tr>\n",
       "  </thead>\n",
       "  <tbody>\n",
       "    <tr>\n",
       "      <td rowspan=\"2\" valign=\"top\">paris</td>\n",
       "      <td>lille</td>\n",
       "      <td>2240.0</td>\n",
       "      <td>68.0</td>\n",
       "      <td>218.384877</td>\n",
       "      <td>6176</td>\n",
       "    </tr>\n",
       "    <tr>\n",
       "      <td>lyon</td>\n",
       "      <td>1711.0</td>\n",
       "      <td>180.0</td>\n",
       "      <td>340.757369</td>\n",
       "      <td>4105</td>\n",
       "    </tr>\n",
       "    <tr>\n",
       "      <td>lyon</td>\n",
       "      <td>paris</td>\n",
       "      <td>2493.0</td>\n",
       "      <td>129.0</td>\n",
       "      <td>367.060134</td>\n",
       "      <td>3276</td>\n",
       "    </tr>\n",
       "    <tr>\n",
       "      <td rowspan=\"3\" valign=\"top\">paris</td>\n",
       "      <td>nantes</td>\n",
       "      <td>2424.0</td>\n",
       "      <td>136.0</td>\n",
       "      <td>299.460408</td>\n",
       "      <td>2450</td>\n",
       "    </tr>\n",
       "    <tr>\n",
       "      <td>orleans</td>\n",
       "      <td>1720.0</td>\n",
       "      <td>20.0</td>\n",
       "      <td>108.039370</td>\n",
       "      <td>1270</td>\n",
       "    </tr>\n",
       "    <tr>\n",
       "      <td>bordeaux</td>\n",
       "      <td>2420.0</td>\n",
       "      <td>152.0</td>\n",
       "      <td>419.518236</td>\n",
       "      <td>1179</td>\n",
       "    </tr>\n",
       "    <tr>\n",
       "      <td>nantes</td>\n",
       "      <td>paris</td>\n",
       "      <td>2406.0</td>\n",
       "      <td>164.0</td>\n",
       "      <td>344.743952</td>\n",
       "      <td>992</td>\n",
       "    </tr>\n",
       "    <tr>\n",
       "      <td>dijon</td>\n",
       "      <td>lyon</td>\n",
       "      <td>1560.0</td>\n",
       "      <td>100.0</td>\n",
       "      <td>177.734841</td>\n",
       "      <td>973</td>\n",
       "    </tr>\n",
       "    <tr>\n",
       "      <td rowspan=\"2\" valign=\"top\">paris</td>\n",
       "      <td>amsterdam</td>\n",
       "      <td>2200.0</td>\n",
       "      <td>236.0</td>\n",
       "      <td>549.234323</td>\n",
       "      <td>909</td>\n",
       "    </tr>\n",
       "    <tr>\n",
       "      <td>rennes</td>\n",
       "      <td>1880.0</td>\n",
       "      <td>123.0</td>\n",
       "      <td>271.097222</td>\n",
       "      <td>864</td>\n",
       "    </tr>\n",
       "  </tbody>\n",
       "</table>\n",
       "</div>"
      ],
      "text/plain": [
       "                         Max_minute  Min_minute  Moyenne_minute  count\n",
       "o_city_name d_city_name                                               \n",
       "paris       lille            2240.0        68.0      218.384877   6176\n",
       "            lyon             1711.0       180.0      340.757369   4105\n",
       "lyon        paris            2493.0       129.0      367.060134   3276\n",
       "paris       nantes           2424.0       136.0      299.460408   2450\n",
       "            orleans          1720.0        20.0      108.039370   1270\n",
       "            bordeaux         2420.0       152.0      419.518236   1179\n",
       "nantes      paris            2406.0       164.0      344.743952    992\n",
       "dijon       lyon             1560.0       100.0      177.734841    973\n",
       "paris       amsterdam        2200.0       236.0      549.234323    909\n",
       "            rennes           1880.0       123.0      271.097222    864"
      ]
     },
     "execution_count": 231,
     "metadata": {},
     "output_type": "execute_result"
    }
   ],
   "source": [
    "# je tris par nombre pour éviter de prendre les doublons : \n",
    "# ex : Paris->Lille ET Lille -> Paris \n",
    "resultat.sort_values(by='count' , ascending=False).head(n=10)"
   ]
  },
  {
   "cell_type": "markdown",
   "metadata": {},
   "source": [
    "Remarque : Voici le temps max, le temps min et le temps moyen de trajet selon la ville de départ et la destination."
   ]
  },
  {
   "cell_type": "markdown",
   "metadata": {},
   "source": [
    "#### Prix moyen et durée selon le train, le bus et le covoit "
   ]
  },
  {
   "cell_type": "code",
   "execution_count": 234,
   "metadata": {
    "code_folding": []
   },
   "outputs": [],
   "source": [
    "#join des datasets\n",
    "providers = providers.rename(columns={'company_id' :'company'})\n",
    "distance_provider = data_distance.merge(providers,on = 'company',how=\"left\")"
   ]
  },
  {
   "cell_type": "code",
   "execution_count": 235,
   "metadata": {},
   "outputs": [],
   "source": [
    "price_in_cents_par_transport_type = distance_provider.groupby([\"transport_type\"]).price_in_cents"
   ]
  },
  {
   "cell_type": "code",
   "execution_count": 237,
   "metadata": {},
   "outputs": [],
   "source": [
    "resultat = pd.DataFrame({\n",
    "   'Max_prix': price_in_cents_par_transport_type.max(),\n",
    "    'Min_prix':price_in_cents_par_transport_type.min(),\n",
    "    \"mean_prix\":price_in_cents_par_transport_type.mean(),\n",
    "    \"nombre d'échantillons\":price_in_cents_par_transport_type.count()\n",
    "    \n",
    "    })"
   ]
  },
  {
   "cell_type": "code",
   "execution_count": 238,
   "metadata": {},
   "outputs": [
    {
     "data": {
      "text/html": [
       "<div>\n",
       "<style scoped>\n",
       "    .dataframe tbody tr th:only-of-type {\n",
       "        vertical-align: middle;\n",
       "    }\n",
       "\n",
       "    .dataframe tbody tr th {\n",
       "        vertical-align: top;\n",
       "    }\n",
       "\n",
       "    .dataframe thead th {\n",
       "        text-align: right;\n",
       "    }\n",
       "</style>\n",
       "<table border=\"1\" class=\"dataframe\">\n",
       "  <thead>\n",
       "    <tr style=\"text-align: right;\">\n",
       "      <th></th>\n",
       "      <th>Max_prix</th>\n",
       "      <th>Min_prix</th>\n",
       "      <th>mean_prix</th>\n",
       "      <th>nombre d'échantillons</th>\n",
       "    </tr>\n",
       "    <tr>\n",
       "      <th>transport_type</th>\n",
       "      <th></th>\n",
       "      <th></th>\n",
       "      <th></th>\n",
       "      <th></th>\n",
       "    </tr>\n",
       "  </thead>\n",
       "  <tbody>\n",
       "    <tr>\n",
       "      <td>bus</td>\n",
       "      <td>9700</td>\n",
       "      <td>850</td>\n",
       "      <td>3299.086153</td>\n",
       "      <td>712755</td>\n",
       "    </tr>\n",
       "    <tr>\n",
       "      <td>carpooling</td>\n",
       "      <td>4777</td>\n",
       "      <td>1990</td>\n",
       "      <td>3868.800000</td>\n",
       "      <td>5</td>\n",
       "    </tr>\n",
       "    <tr>\n",
       "      <td>train</td>\n",
       "      <td>5200</td>\n",
       "      <td>2400</td>\n",
       "      <td>3265.555556</td>\n",
       "      <td>90</td>\n",
       "    </tr>\n",
       "  </tbody>\n",
       "</table>\n",
       "</div>"
      ],
      "text/plain": [
       "                Max_prix  Min_prix    mean_prix  nombre d'échantillons\n",
       "transport_type                                                        \n",
       "bus                 9700       850  3299.086153                 712755\n",
       "carpooling          4777      1990  3868.800000                      5\n",
       "train               5200      2400  3265.555556                     90"
      ]
     },
     "execution_count": 238,
     "metadata": {},
     "output_type": "execute_result"
    }
   ],
   "source": [
    "resultat\n",
    "# REMARQUE : on ne peut pas en déduire qqchose car l'échantillon est trop petit pour le carpooling\n",
    "# et le train"
   ]
  },
  {
   "cell_type": "markdown",
   "metadata": {},
   "source": [
    "#### Prix moyen & durée moyen en fonction de la distance"
   ]
  },
  {
   "cell_type": "code",
   "execution_count": 241,
   "metadata": {
    "code_folding": [
     0
    ]
   },
   "outputs": [],
   "source": [
    "#changement de la feature distance (float) en  categorical [(0, 200), (201, 400), (401, 800),(801,2000)]\n",
    "bins = pd.IntervalIndex.from_tuples([(0, 200), (201, 400), (401, 800),(801,2000)])\n",
    "distance_provider.distance = pd.cut(distance_provider.distance, bins)"
   ]
  },
  {
   "cell_type": "markdown",
   "metadata": {},
   "source": [
    "#####  Prix moyen en fonciton de la distance"
   ]
  },
  {
   "cell_type": "code",
   "execution_count": 242,
   "metadata": {},
   "outputs": [
    {
     "data": {
      "text/plain": [
       "distance\n",
       "(0, 200]       2014.993381\n",
       "(201, 400]     2662.603747\n",
       "(401, 800]     3826.171945\n",
       "(801, 2000]    5850.098319\n",
       "Name: price_in_cents, dtype: float64"
      ]
     },
     "execution_count": 242,
     "metadata": {},
     "output_type": "execute_result"
    }
   ],
   "source": [
    "distance_provider.groupby([\"distance\"]).price_in_cents.mean()"
   ]
  },
  {
   "cell_type": "code",
   "execution_count": 248,
   "metadata": {},
   "outputs": [
    {
     "name": "stdout",
     "output_type": "stream",
     "text": [
      "Nombre des échantillons par catégorie\n"
     ]
    },
    {
     "data": {
      "text/plain": [
       "distance\n",
       "(0, 200]        80678\n",
       "(201, 400]     278908\n",
       "(401, 800]     371015\n",
       "(801, 2000]     41772\n",
       "Name: price_in_cents, dtype: int64"
      ]
     },
     "execution_count": 248,
     "metadata": {},
     "output_type": "execute_result"
    }
   ],
   "source": [
    "#Nombre d'échantillon par catégorie\n",
    "print(\"Nombre des échantillons par catégorie\")\n",
    "distance_provider.groupby([\"distance\"]).price_in_cents.count()"
   ]
  },
  {
   "cell_type": "markdown",
   "metadata": {},
   "source": [
    "Après avoir fait des intervalles de confiance, on se rends compte que les différences de prix sont bien significatives à 95% pour chaque catégorie."
   ]
  },
  {
   "cell_type": "code",
   "execution_count": 250,
   "metadata": {},
   "outputs": [
    {
     "data": {
      "text/plain": [
       "Text(0.5, 0.98, 'barplot des prix (centimes) par distance')"
      ]
     },
     "execution_count": 250,
     "metadata": {},
     "output_type": "execute_result"
    },
    {
     "data": {
      "image/png": "[encoded data removed]",
      "text/plain": [
       "<Figure size 432x288 with 1 Axes>"
      ]
     },
     "metadata": {
      "needs_background": "light"
     },
     "output_type": "display_data"
    }
   ],
   "source": [
    "distance_provider.groupby([\"distance\"]).price_in_cents.mean().plot.bar()\n",
    "plt.suptitle(\"barplot des prix moyens(centimes) par distance\")"
   ]
  },
  {
   "cell_type": "markdown",
   "metadata": {},
   "source": [
    "#####  Temps moyen en fonciton de la distance"
   ]
  },
  {
   "cell_type": "code",
   "execution_count": 251,
   "metadata": {},
   "outputs": [
    {
     "data": {
      "text/plain": [
       "Text(0.5, 0.98, 'barplot du temps moyens(minutes) par distance')"
      ]
     },
     "execution_count": 251,
     "metadata": {},
     "output_type": "execute_result"
    },
    {
     "data": {
      "image/png": "[encoded data removed]",
      "text/plain": [
       "<Figure size 432x288 with 1 Axes>"
      ]
     },
     "metadata": {
      "needs_background": "light"
     },
     "output_type": "display_data"
    }
   ],
   "source": [
    "test.groupby([\"distance\"]).temps_trajet_in_minute.mean().plot.bar()\n",
    "plt.suptitle(\"barplot du temps moyen(minutes) par distance\")"
   ]
  }
 ],
 "metadata": {
  "kernelspec": {
   "display_name": "Python 3",
   "language": "python",
   "name": "python3"
  },
  "language_info": {
   "codemirror_mode": {
    "name": "ipython",
    "version": 3
   },
   "file_extension": ".py",
   "mimetype": "text/x-python",
   "name": "python",
   "nbconvert_exporter": "python",
   "pygments_lexer": "ipython3",
   "version": "3.7.4"
  },
  "toc": {
   "base_numbering": 1,
   "nav_menu": {},
   "number_sections": true,
   "sideBar": true,
   "skip_h1_title": false,
   "title_cell": "Table of Contents",
   "title_sidebar": "Contents",
   "toc_cell": false,
   "toc_position": {
    "height": "calc(100% - 180px)",
    "left": "10px",
    "top": "150px",
    "width": "355.15px"
   },
   "toc_section_display": true,
   "toc_window_display": true
  }
 },
 "nbformat": 4,
 "nbformat_minor": 2
}
